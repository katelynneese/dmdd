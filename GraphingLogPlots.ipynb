{
 "cells": [
  {
   "cell_type": "code",
   "execution_count": 1,
   "metadata": {
    "collapsed": false
   },
   "outputs": [
    {
     "name": "stderr",
     "output_type": "stream",
     "text": [
      "WARNING:root:pymultinest not imported!\n",
      "WARNING:root:DMDD_MAIN_PATH environment variable not defined, defaulting to:   ~/.dmdd\n"
     ]
    }
   ],
   "source": [
    "import dmdd\n",
    "import numpy as np\n",
    "%matplotlib inline"
   ]
  },
  {
   "cell_type": "code",
   "execution_count": 2,
   "metadata": {
    "collapsed": false
   },
   "outputs": [
    {
     "name": "stdout",
     "output_type": "stream",
     "text": [
      "model: Anapole, parameters: ['mass', 'sigma_anapole'].\n",
      "model: SI, parameters: ['mass', 'sigma_si'].\n"
     ]
    }
   ],
   "source": [
    "# shortcut for scattering models corresponding to rates coded in rate_UV:\n",
    "anapole_model = dmdd.UV_Model('Anapole', ['mass','sigma_anapole'])\n",
    "SI_model = dmdd.UV_Model('SI', ['mass','sigma_si'])\n",
    "\n",
    "print 'model: {}, parameters: {}.'.format(anapole_model.name, anapole_model.param_names)\n",
    "print 'model: {}, parameters: {}.'.format(SI_model.name, SI_model.param_names)"
   ]
  },
  {
   "cell_type": "code",
   "execution_count": 3,
   "metadata": {
    "collapsed": true
   },
   "outputs": [],
   "source": [
    "# intialize an Experiment with XENON target, to be passed to Simulation_AM:\n",
    "xe_low = dmdd.Experiment('1xe', 'xenon', 5, 30, 1000, dmdd.eff.efficiency_unit, energy_resolution=True)"
   ]
  },
  {
   "cell_type": "code",
   "execution_count": 5,
   "metadata": {
    "collapsed": false
   },
   "outputs": [
    {
     "name": "stdout",
     "output_type": "stream",
     "text": [
      "Simulation data and/or pickle file does not exist. Forcing simulation.\n",
      "\n",
      "\n",
      "simulated: 414 events (expected 419).\n"
     ]
    },
    {
     "name": "stderr",
     "output_type": "stream",
     "text": [
      "//anaconda/lib/python2.7/site-packages/matplotlib/image.py:359: UserWarning: Images are not supported on non-linear axes.\n",
      "  warnings.warn(\"Images are not supported on non-linear axes.\")\n",
      "//anaconda/lib/python2.7/site-packages/matplotlib/transforms.py:2547: RuntimeWarning: divide by zero encountered in double_scalars\n",
      "  x_scale = 1.0 / inw\n",
      "//anaconda/lib/python2.7/site-packages/matplotlib/transforms.py:2548: RuntimeWarning: divide by zero encountered in double_scalars\n",
      "  y_scale = 1.0 / inh\n"
     ]
    },
    {
     "data": {
      "image/png": "[encoded data removed]",
      "text/plain": [
       "<matplotlib.figure.Figure at 0x1093d0ed0>"
      ]
     },
     "metadata": {},
     "output_type": "display_data"
    }
   ],
   "source": [
    "xe_si = dmdd.Simulation_AM('SI', xe_low, SI_model, \n",
    "                        {'mass':50.,'sigma_si':200.}, Qmin = np.asarray([5.]), \n",
    "                        Qmax = np.asarray([30.]), \n",
    "                        Tmin = 0, Tmax = 365, sigma_si = 200., \n",
    "                        element = 'xenon', force_sim = True)\n",
    "#make large cross section and low Q range to get as many points as possible to fill all possible bins"
   ]
  },
  {
   "cell_type": "code",
   "execution_count": null,
   "metadata": {
    "collapsed": true
   },
   "outputs": [],
   "source": []
  }
 ],
 "metadata": {
  "kernelspec": {
   "display_name": "Python 2",
   "language": "python",
   "name": "python2"
  },
  "language_info": {
   "codemirror_mode": {
    "name": "ipython",
    "version": 2
   },
   "file_extension": ".py",
   "mimetype": "text/x-python",
   "name": "python",
   "nbconvert_exporter": "python",
   "pygments_lexer": "ipython2",
   "version": "2.7.10"
  }
 },
 "nbformat": 4,
 "nbformat_minor": 0
}
