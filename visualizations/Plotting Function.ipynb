{
 "cells": [
  {
   "cell_type": "code",
   "execution_count": 145,
   "metadata": {
    "collapsed": false
   },
   "outputs": [
    {
     "name": "stdout",
     "output_type": "stream",
     "text": [
      "Using matplotlib backend: MacOSX\n"
     ]
    }
   ],
   "source": [
    "%matplotlib\n",
    "import numpy as np\n",
    "import dmdd\n"
   ]
  },
  {
   "cell_type": "code",
   "execution_count": 137,
   "metadata": {
    "collapsed": true
   },
   "outputs": [],
   "source": [
    "dmdd.Nexpected?"
   ]
  },
  {
   "cell_type": "code",
   "execution_count": 146,
   "metadata": {
    "collapsed": false
   },
   "outputs": [],
   "source": [
    "def plotfunction(element, Qmin, Qmax, binsize, exposure): #efficiency= fsdfsdfsdfsd binsize is number you want to count by\n",
    "    #auto pass efficiency function\n",
    "    binnumber = (Qmax - Qmin)/binsize\n",
    "    binlist = np.arange(Qmin, Qmax+binsize, binsize) #includes the last point\n",
    "    print binlist \n",
    "    print binnumber\n",
    "    \n",
    "    for \n",
    "    \n",
    "    \"\"\"# example data\n",
    "    mu = 100 # mean of distribution\n",
    "    sigma = 15 # standard deviation of distribution\n",
    "    x = mu + sigma * np.random.randn(10000)\n",
    "    num_bins = binnumber\n",
    "    # the histogram of the data\n",
    "    n, bins, patches = plt.hist(x, num_bins, normed=1, facecolor='green', alpha=0.5)\n",
    "    # add a 'best fit' line\n",
    "    y = mlab.normpdf(bins, mu, sigma)\n",
    "    plt.plot(bins, y, 'r--')\n",
    "    plt.xlabel('Energy of Events')\n",
    "    plt.ylabel('Number of Expected Events')\n",
    "    plt.title(r'Histogram of Dark Matter Energies')\n",
    "    # Tweak spacing to prevent clipping of ylabel\n",
    "    plt.subplots_adjust(left=0.15)\n",
    "    plt.show()\"\"\"\n",
    "\n",
    "\n",
    "    \n",
    "    #dmdd.Nexpected(element, Qmin, Qmax, exposure,) #efficiency\n",
    "    "
   ]
  },
  {
   "cell_type": "code",
   "execution_count": 148,
   "metadata": {
    "collapsed": false
   },
   "outputs": [
    {
     "name": "stdout",
     "output_type": "stream",
     "text": [
      "[ 5 10 15 20 25 30 35 40 45 50]\n",
      "9\n"
     ]
    }
   ],
   "source": [
    "plotfunction(1, 5, 50, 5, 1)\n",
    "plt.show()"
   ]
  },
  {
   "cell_type": "code",
   "execution_count": null,
   "metadata": {
    "collapsed": true
   },
   "outputs": [],
   "source": []
  }
 ],
 "metadata": {
  "kernelspec": {
   "display_name": "Python 2",
   "language": "python",
   "name": "python2"
  },
  "language_info": {
   "codemirror_mode": {
    "name": "ipython",
    "version": 2
   },
   "file_extension": ".py",
   "mimetype": "text/x-python",
   "name": "python",
   "nbconvert_exporter": "python",
   "pygments_lexer": "ipython2",
   "version": "2.7.9"
  }
 },
 "nbformat": 4,
 "nbformat_minor": 0
}
