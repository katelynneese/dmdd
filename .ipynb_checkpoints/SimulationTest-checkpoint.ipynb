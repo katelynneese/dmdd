{
 "cells": [
  {
   "cell_type": "code",
   "execution_count": 1,
   "metadata": {
    "collapsed": false
   },
   "outputs": [
    {
     "name": "stderr",
     "output_type": "stream",
     "text": [
      "WARNING:root:pymultinest not imported!\n",
      "WARNING:root:DMDD_MAIN_PATH environment variable not defined, defaulting to:   ~/.dmdd\n",
      "ERROR: Line magic function `%matplotlab` not found.\n"
     ]
    }
   ],
   "source": [
    "import dmdd\n",
    "import numpy as np\n",
    "%matplotlib inline"
   ]
  },
  {
   "cell_type": "code",
   "execution_count": 2,
   "metadata": {
    "collapsed": false
   },
   "outputs": [
    {
     "name": "stdout",
     "output_type": "stream",
     "text": [
      "model: Anapole, parameters: ['mass', 'sigma_anapole'].\n",
      "model: SI, parameters: ['mass', 'sigma_si'].\n"
     ]
    }
   ],
   "source": [
    "# shortcut for scattering models corresponding to rates coded in rate_UV:\n",
    "anapole_model = dmdd.UV_Model('Anapole', ['mass','sigma_anapole'])\n",
    "SI_model = dmdd.UV_Model('SI', ['mass','sigma_si'])\n",
    "\n",
    "print 'model: {}, parameters: {}.'.format(anapole_model.name, anapole_model.param_names)\n",
    "print 'model: {}, parameters: {}.'.format(SI_model.name, SI_model.param_names)"
   ]
  },
  {
   "cell_type": "code",
   "execution_count": 3,
   "metadata": {
    "collapsed": true
   },
   "outputs": [],
   "source": [
    "# intialize an Experiment with XENON target, to be passed to Simulation_AM:\n",
    "xe = dmdd.Experiment('1xe', 'xenon', 5, 80, 1000, dmdd.eff.efficiency_unit, energy_resolution=True)"
   ]
  },
  {
   "cell_type": "code",
   "execution_count": 4,
   "metadata": {
    "collapsed": false
   },
   "outputs": [
    {
     "name": "stdout",
     "output_type": "stream",
     "text": [
      "Simulation data and/or pickle file does not exist. Forcing simulation.\n",
      "\n",
      "\n",
      "Q = 9.925775 ; T = 69.246753 ; pdf = 417.460802 ; U = 161.396090 .\n",
      "Q = 6.170858 ; T = 276.975596 ; pdf = 608.724886 ; U = 208.582056 .\n",
      "Q = 26.904223 ; T = 214.876183 ; pdf = 64.920031 ; U = 40.497403 .\n",
      "Q = 10.983663 ; T = 205.918716 ; pdf = 371.550551 ; U = 166.025161 .\n",
      "Q = 7.353098 ; T = 304.085822 ; pdf = 537.917171 ; U = 126.385947 .\n",
      "Q = 14.646756 ; T = 203.891100 ; pdf = 254.354230 ; U = 117.612741 .\n",
      "Q = 26.192023 ; T = 35.008801 ; pdf = 80.515181 ; U = 12.173796 .\n",
      "Q = 15.822840 ; T = 159.404431 ; pdf = 233.546449 ; U = 202.795227 .\n",
      "Q = 7.728866 ; T = 35.572293 ; pdf = 512.082021 ; U = 423.812771 .\n"
     ]
    },
    {
     "ename": "KeyboardInterrupt",
     "evalue": "",
     "output_type": "error",
     "traceback": [
      "\u001b[0;31m---------------------------------------------------------------------------\u001b[0m",
      "\u001b[0;31mKeyboardInterrupt\u001b[0m                         Traceback (most recent call last)",
      "\u001b[0;32m<ipython-input-4-39e078dcf6ce>\u001b[0m in \u001b[0;36m<module>\u001b[0;34m()\u001b[0m\n\u001b[1;32m      3\u001b[0m                         \u001b[0mQmax\u001b[0m \u001b[0;34m=\u001b[0m \u001b[0mnp\u001b[0m\u001b[0;34m.\u001b[0m\u001b[0masarray\u001b[0m\u001b[0;34m(\u001b[0m\u001b[0;34m[\u001b[0m\u001b[0;36m80.\u001b[0m\u001b[0;34m]\u001b[0m\u001b[0;34m)\u001b[0m\u001b[0;34m,\u001b[0m\u001b[0;34m\u001b[0m\u001b[0m\n\u001b[1;32m      4\u001b[0m                         \u001b[0mTmin\u001b[0m \u001b[0;34m=\u001b[0m \u001b[0;36m0\u001b[0m\u001b[0;34m,\u001b[0m \u001b[0mTmax\u001b[0m \u001b[0;34m=\u001b[0m \u001b[0;36m365\u001b[0m\u001b[0;34m,\u001b[0m \u001b[0msigma_si\u001b[0m \u001b[0;34m=\u001b[0m \u001b[0;36m75.5\u001b[0m\u001b[0;34m,\u001b[0m\u001b[0;34m\u001b[0m\u001b[0m\n\u001b[0;32m----> 5\u001b[0;31m                         element = 'xenon', force_sim = True)\n\u001b[0m\u001b[1;32m      6\u001b[0m \u001b[0;34m\u001b[0m\u001b[0m\n\u001b[1;32m      7\u001b[0m \u001b[0;31m#maybe use a histogram to see what it looks like?\u001b[0m\u001b[0;34m\u001b[0m\u001b[0;34m\u001b[0m\u001b[0m\n",
      "\u001b[0;32m/Users/katelynneese/dmddACT/dmdd/dmdd.py\u001b[0m in \u001b[0;36m__init__\u001b[0;34m(self, name, experiment, model, parvals, Qmin, Qmax, element, sigma_si, sigma_anapole, mass, v_amplitude, Tmin, Tmax, path, force_sim, asimov, nbins_asimov, plot_nbins, plot_theory, silent)\u001b[0m\n\u001b[1;32m   1068\u001b[0m                 \u001b[0;32mraise\u001b[0m \u001b[0mValueError\u001b[0m\u001b[0;34m(\u001b[0m\u001b[0;34m'Asimov simulations not yet implemented!'\u001b[0m\u001b[0;34m)\u001b[0m\u001b[0;34m\u001b[0m\u001b[0m\n\u001b[1;32m   1069\u001b[0m             \u001b[0;32melse\u001b[0m\u001b[0;34m:\u001b[0m\u001b[0;34m\u001b[0m\u001b[0m\n\u001b[0;32m-> 1070\u001b[0;31m                 \u001b[0mQ\u001b[0m \u001b[0;34m=\u001b[0m \u001b[0mself\u001b[0m\u001b[0;34m.\u001b[0m\u001b[0msimulate_data\u001b[0m\u001b[0;34m(\u001b[0m\u001b[0;34m)\u001b[0m\u001b[0;34m\u001b[0m\u001b[0m\n\u001b[0m\u001b[1;32m   1071\u001b[0m                 \u001b[0mnp\u001b[0m\u001b[0;34m.\u001b[0m\u001b[0msavetxt\u001b[0m\u001b[0;34m(\u001b[0m\u001b[0mself\u001b[0m\u001b[0;34m.\u001b[0m\u001b[0mdatafile\u001b[0m\u001b[0;34m,\u001b[0m\u001b[0mQ\u001b[0m\u001b[0;34m)\u001b[0m\u001b[0;34m\u001b[0m\u001b[0m\n\u001b[1;32m   1072\u001b[0m                 \u001b[0mfout\u001b[0m \u001b[0;34m=\u001b[0m \u001b[0mopen\u001b[0m\u001b[0;34m(\u001b[0m\u001b[0mself\u001b[0m\u001b[0;34m.\u001b[0m\u001b[0mpicklefile\u001b[0m\u001b[0;34m,\u001b[0m\u001b[0;34m'wb'\u001b[0m\u001b[0;34m)\u001b[0m\u001b[0;34m\u001b[0m\u001b[0m\n",
      "\u001b[0;32m/Users/katelynneese/dmddACT/dmdd/dmdd.py\u001b[0m in \u001b[0;36msimulate_data\u001b[0;34m(self)\u001b[0m\n\u001b[1;32m   1134\u001b[0m                 pdf_value = PDF(Q_rand, T_rand, element = self.element, mass = self.mass,\n\u001b[1;32m   1135\u001b[0m                                         \u001b[0msigma_si\u001b[0m\u001b[0;34m=\u001b[0m \u001b[0mself\u001b[0m\u001b[0;34m.\u001b[0m\u001b[0msigma_si\u001b[0m\u001b[0;34m,\u001b[0m \u001b[0msigma_anapole\u001b[0m \u001b[0;34m=\u001b[0m \u001b[0mself\u001b[0m\u001b[0;34m.\u001b[0m\u001b[0msigma_anapole\u001b[0m\u001b[0;34m,\u001b[0m\u001b[0;34m\u001b[0m\u001b[0m\n\u001b[0;32m-> 1136\u001b[0;31m                                         Qmin = np.asarray([self.Qmin]), Qmax = np.asarray([self.Qmax]), Tmin = self.Tmin, Tmax = self.Tmax)/env\n\u001b[0m\u001b[1;32m   1137\u001b[0m                 \u001b[0;32mif\u001b[0m \u001b[0mU\u001b[0m \u001b[0;34m<\u001b[0m \u001b[0mpdf_value\u001b[0m\u001b[0;34m:\u001b[0m\u001b[0;34m\u001b[0m\u001b[0m\n\u001b[1;32m   1138\u001b[0m                     \u001b[0;31m#increment matches\u001b[0m\u001b[0;34m\u001b[0m\u001b[0;34m\u001b[0m\u001b[0m\n",
      "\u001b[0;32m/Users/katelynneese/dmddACT/dmdd/dmdd.py\u001b[0m in \u001b[0;36mPDF\u001b[0;34m(Q, time, element, mass, sigma_si, sigma_anapole, Qmin, Qmax, Tmin, Tmax)\u001b[0m\n\u001b[1;32m    117\u001b[0m                     \u001b[0mTmin\u001b[0m \u001b[0;34m=\u001b[0m \u001b[0mTmin\u001b[0m\u001b[0;34m,\u001b[0m \u001b[0mTmax\u001b[0m \u001b[0;34m=\u001b[0m \u001b[0mTmax\u001b[0m\u001b[0;34m,\u001b[0m\u001b[0;34m\u001b[0m\u001b[0m\n\u001b[1;32m    118\u001b[0m                     \u001b[0melement\u001b[0m \u001b[0;34m=\u001b[0m \u001b[0melement\u001b[0m\u001b[0;34m,\u001b[0m \u001b[0msigma_si\u001b[0m \u001b[0;34m=\u001b[0m \u001b[0msigma_si\u001b[0m\u001b[0;34m,\u001b[0m\u001b[0;34m\u001b[0m\u001b[0m\n\u001b[0;32m--> 119\u001b[0;31m                     sigma_anapole = sigma_anapole, mass = mass)\n\u001b[0m\u001b[1;32m    120\u001b[0m \u001b[0;34m\u001b[0m\u001b[0m\n\u001b[1;32m    121\u001b[0m     \u001b[0;32mreturn\u001b[0m \u001b[0mdrdq\u001b[0m\u001b[0;34m/\u001b[0m\u001b[0mnorm\u001b[0m\u001b[0;34m[\u001b[0m\u001b[0;36m0\u001b[0m\u001b[0;34m]\u001b[0m \u001b[0;31m#for now removed efficiency and made it 1\u001b[0m\u001b[0;34m\u001b[0m\u001b[0m\n",
      "\u001b[0;32m/Users/katelynneese/dmddACT/dmdd/dmdd.py\u001b[0m in \u001b[0;36mintegral\u001b[0;34m(Qmin, Qmax, Tmin, Tmax, Qpoints, Tpoints, function, sigma_si, sigma_anapole, mass, element, v_amplitude)\u001b[0m\n\u001b[1;32m    102\u001b[0m         \u001b[0;32mfor\u001b[0m \u001b[0mj\u001b[0m\u001b[0;34m,\u001b[0m\u001b[0mT\u001b[0m \u001b[0;32min\u001b[0m \u001b[0menumerate\u001b[0m\u001b[0;34m(\u001b[0m\u001b[0mT_box\u001b[0m\u001b[0;34m)\u001b[0m\u001b[0;34m:\u001b[0m\u001b[0;34m\u001b[0m\u001b[0m\n\u001b[1;32m    103\u001b[0m             a_sum = np.sum(function(Q = np.asarray(Q), time = T, sigma_si = sigma_si, sigma_anapole = sigma_anapole,\n\u001b[0;32m--> 104\u001b[0;31m                                     mass = mass, element = element, v_amplitude = v_amplitude))\n\u001b[0m\u001b[1;32m    105\u001b[0m             \u001b[0mtotal_sum\u001b[0m\u001b[0;34m.\u001b[0m\u001b[0mappend\u001b[0m\u001b[0;34m(\u001b[0m\u001b[0ma_sum\u001b[0m\u001b[0;34m)\u001b[0m\u001b[0;34m\u001b[0m\u001b[0m\n\u001b[1;32m    106\u001b[0m \u001b[0;34m\u001b[0m\u001b[0m\n",
      "\u001b[0;32m/Users/katelynneese/dmddACT/dmdd/dmdd.py\u001b[0m in \u001b[0;36mdRdQ_AM\u001b[0;34m(mass, sigma_si, sigma_anapole, Q, time, element, vlag_mean, v_amplitude)\u001b[0m\n\u001b[1;32m     81\u001b[0m     \u001b[0;31m#print type(v_lag) #vlag must be a number not an array\u001b[0m\u001b[0;34m\u001b[0m\u001b[0;34m\u001b[0m\u001b[0m\n\u001b[1;32m     82\u001b[0m \u001b[0;34m\u001b[0m\u001b[0m\n\u001b[0;32m---> 83\u001b[0;31m     \u001b[0mrate_QT\u001b[0m \u001b[0;34m=\u001b[0m \u001b[0mrate_UV\u001b[0m\u001b[0;34m.\u001b[0m\u001b[0mdRdQ\u001b[0m\u001b[0;34m(\u001b[0m\u001b[0mQ\u001b[0m \u001b[0;34m=\u001b[0m \u001b[0menergy\u001b[0m\u001b[0;34m,\u001b[0m \u001b[0mv_lag\u001b[0m \u001b[0;34m=\u001b[0m \u001b[0mv_lag\u001b[0m\u001b[0;34m,\u001b[0m \u001b[0mmass\u001b[0m \u001b[0;34m=\u001b[0m \u001b[0mmass\u001b[0m\u001b[0;34m,\u001b[0m \u001b[0msigma_si\u001b[0m \u001b[0;34m=\u001b[0m \u001b[0msigma_si\u001b[0m\u001b[0;34m,\u001b[0m \u001b[0msigma_anapole\u001b[0m \u001b[0;34m=\u001b[0m \u001b[0msigma_anapole\u001b[0m\u001b[0;34m,\u001b[0m \u001b[0melement\u001b[0m \u001b[0;34m=\u001b[0m \u001b[0melement\u001b[0m\u001b[0;34m)\u001b[0m\u001b[0;34m\u001b[0m\u001b[0m\n\u001b[0m\u001b[1;32m     84\u001b[0m \u001b[0;34m\u001b[0m\u001b[0m\n\u001b[1;32m     85\u001b[0m     \u001b[0;34m\"Return a 1D array with the rate based on the time and energy given\"\u001b[0m\u001b[0;34m\u001b[0m\u001b[0m\n",
      "\u001b[0;31mKeyboardInterrupt\u001b[0m: "
     ]
    }
   ],
   "source": [
    "xe_si = dmdd.Simulation_AM('SI', xe, SI_model, \n",
    "                        {'mass':50.,'sigma_si':75.5}, Qmin = np.asarray([5.]), \n",
    "                        Qmax = np.asarray([80.]), \n",
    "                        Tmin = 0, Tmax = 365, sigma_si = 75.5, \n",
    "                        element = 'xenon', force_sim = True)\n",
    "\n",
    "#maybe use a histogram to see what it looks like?"
   ]
  },
  {
   "cell_type": "code",
   "execution_count": 5,
   "metadata": {
    "collapsed": false
   },
   "outputs": [
    {
     "name": "stdout",
     "output_type": "stream",
     "text": [
      "Simulation data and/or pickle file does not exist. Forcing simulation.\n",
      "\n",
      "\n",
      "Q = 6.381130 ; T = 156.116963 ; pdf = 132.190687 ; U = 44.486517 .\n",
      "Q = 5.719233 ; T = 191.132699 ; pdf = 133.019339 ; U = 42.874222 .\n",
      "Q = 11.028532 ; T = 344.533253 ; pdf = 77.740594 ; U = 23.087695 .\n",
      "Q = 5.839922 ; T = 209.423475 ; pdf = 127.930576 ; U = 36.598667 .\n",
      "Q = 7.277484 ; T = 128.441628 ; pdf = 126.229305 ; U = 29.245389 .\n",
      "Q = 11.871179 ; T = 203.195273 ; pdf = 71.330390 ; U = 43.161002 .\n",
      "Q = 5.706679 ; T = 155.437479 ; pdf = 140.636488 ; U = 126.072719 .\n",
      "Q = 10.769414 ; T = 79.142648 ; pdf = 93.400179 ; U = 35.462004 .\n",
      "Q = 14.518289 ; T = 34.440256 ; pdf = 61.660346 ; U = 57.466819 .\n",
      "Q = 25.245608 ; T = 117.800356 ; pdf = 21.232331 ; U = 19.671319 .\n",
      "Q = 26.166661 ; T = 204.036493 ; pdf = 14.728469 ; U = 10.501656 .\n",
      "Q = 5.053704 ; T = 223.484309 ; pdf = 135.373652 ; U = 19.818466 .\n",
      "Q = 6.073428 ; T = 236.890840 ; pdf = 120.950870 ; U = 92.749639 .\n",
      "Q = 8.881020 ; T = 39.805147 ; pdf = 107.141326 ; U = 2.766484 .\n",
      "Q = 39.959558 ; T = 209.523388 ; pdf = 2.603834 ; U = 1.798069 .\n",
      "Q = 17.604956 ; T = 59.592031 ; pdf = 47.185314 ; U = 5.868140 .\n",
      "Q = 9.733886 ; T = 281.637568 ; pdf = 82.100802 ; U = 21.715242 .\n",
      "Q = 10.548089 ; T = 236.310687 ; pdf = 77.223397 ; U = 70.258617 .\n",
      "Q = 20.487111 ; T = 82.358094 ; pdf = 35.851156 ; U = 18.482762 .\n",
      "Q = 17.855928 ; T = 167.022174 ; pdf = 41.891597 ; U = 10.420574 .\n",
      "simulated: 163 events (expected 168).\n"
     ]
    }
   ],
   "source": [
    "xe_anapole = dmdd.Simulation_AM('Anapole', xe, anapole_model, \n",
    "                        {'mass':50.,'sigma_anapole':44.25}, Qmin = np.asarray([5.]), \n",
    "                        Qmax = np.asarray([80.]), \n",
    "                        Tmin = 0, Tmax = 365, sigma_anapole = 44.25, \n",
    "                        element = 'xenon', force_sim = True)\n",
    "\n",
    "#maybe use a histogram to see what it looks like?\n",
    "# sigma_si can be anywhere upwards of 671 but sigma_anapole is around 140 at the highest"
   ]
  },
  {
   "cell_type": "code",
   "execution_count": null,
   "metadata": {
    "collapsed": true
   },
   "outputs": [],
   "source": []
  }
 ],
 "metadata": {
  "kernelspec": {
   "display_name": "Python 2",
   "language": "python",
   "name": "python2"
  },
  "language_info": {
   "codemirror_mode": {
    "name": "ipython",
    "version": 2
   },
   "file_extension": ".py",
   "mimetype": "text/x-python",
   "name": "python",
   "nbconvert_exporter": "python",
   "pygments_lexer": "ipython2",
   "version": "2.7.10"
  }
 },
 "nbformat": 4,
 "nbformat_minor": 0
}
