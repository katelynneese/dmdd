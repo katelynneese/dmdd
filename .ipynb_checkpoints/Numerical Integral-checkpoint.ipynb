{
 "cells": [
  {
   "cell_type": "code",
   "execution_count": 1,
   "metadata": {
    "collapsed": true
   },
   "outputs": [],
   "source": [
    "import numpy as np"
   ]
  },
  {
   "cell_type": "code",
   "execution_count": null,
   "metadata": {
    "collapsed": true
   },
   "outputs": [],
   "source": [
    "#write a function that computes a 2d integral numerically\n",
    "#needs to take a function, the x limit, the y limit, and assigns the number of points for x and y limit"
   ]
  },
  {
   "cell_type": "code",
   "execution_count": 4,
   "metadata": {
    "collapsed": true
   },
   "outputs": [],
   "source": [
    "#simple function designed to test\n",
    "def f1(x,y):\n",
    "    return (x**2)*y"
   ]
  },
  {
   "cell_type": "code",
   "execution_count": 17,
   "metadata": {
    "collapsed": true
   },
   "outputs": [],
   "source": [
    "def integral(function, x1, x2, y1, y2, xpoints = 1000., ypoints = 1000.):\n",
    "    x_box = np.linspace(x1, x2, xpoints)\n",
    "    y_box = np.linspace(y1, y2, ypoints)\n",
    "    delta_x = (x2 - x1)/xpoints\n",
    "    delta_y = (y2 - y1)/ypoints\n",
    "    #the volume of the boxes\n",
    "    volume = delta_x*delta_y\n",
    "    total_sum = []\n",
    "    for i,x in enumerate(x_box):\n",
    "        a_sum = np.sum(function(x, y_box))\n",
    "        total_sum.append(a_sum)\n",
    "    \n",
    "    function_sum = np.sum(total_sum)\n",
    "    return volume*function_sum\n",
    "    \n",
    "    \n",
    "    "
   ]
  },
  {
   "cell_type": "code",
   "execution_count": 20,
   "metadata": {
    "collapsed": false
   },
   "outputs": [
    {
     "data": {
      "text/plain": [
       "0.16675008341675007"
      ]
     },
     "execution_count": 20,
     "metadata": {},
     "output_type": "execute_result"
    }
   ],
   "source": [
    "integral(f1, 0, 1, 0, 1)"
   ]
  },
  {
   "cell_type": "code",
   "execution_count": 21,
   "metadata": {
    "collapsed": false
   },
   "outputs": [
    {
     "data": {
      "text/plain": [
       "0.050050050050048922"
      ]
     },
     "execution_count": 21,
     "metadata": {},
     "output_type": "execute_result"
    }
   ],
   "source": [
    "#percentage difference between theoretical and actual\n",
    "((integral(f1, 0, 1, 0, 1) - 1./6.)/(1./6.))*100"
   ]
  },
  {
   "cell_type": "code",
   "execution_count": null,
   "metadata": {
    "collapsed": true
   },
   "outputs": [],
   "source": []
  }
 ],
 "metadata": {
  "kernelspec": {
   "display_name": "Python 2",
   "language": "python",
   "name": "python2"
  },
  "language_info": {
   "codemirror_mode": {
    "name": "ipython",
    "version": 2
   },
   "file_extension": ".py",
   "mimetype": "text/x-python",
   "name": "python",
   "nbconvert_exporter": "python",
   "pygments_lexer": "ipython2",
   "version": "2.7.10"
  }
 },
 "nbformat": 4,
 "nbformat_minor": 0
}
