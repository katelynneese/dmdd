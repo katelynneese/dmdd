{
 "cells": [
  {
   "cell_type": "code",
   "execution_count": 1,
   "metadata": {
    "collapsed": false
   },
   "outputs": [
    {
     "name": "stderr",
     "output_type": "stream",
     "text": [
      "WARNING:root:pymultinest not imported!\n",
      "WARNING:root:DMDD_MAIN_PATH environment variable not defined, defaulting to:   ~/.dmdd\n"
     ]
    }
   ],
   "source": [
    "import dmdd\n",
    "import numpy as np"
   ]
  },
  {
   "cell_type": "code",
   "execution_count": 19,
   "metadata": {
    "collapsed": false,
    "scrolled": true
   },
   "outputs": [
    {
     "name": "stdout",
     "output_type": "stream",
     "text": [
      "[  2.80527965e-17]\n",
      "[  2.80527965e-17]\n"
     ]
    }
   ],
   "source": [
    "print dmdd.dRdQ_AM()\n",
    "# MATCHES for same parameters as rate_UV.dRdQ, since at t = 0 there is no velocity and vlag_mean is the same\n",
    "print dmdd.dRdQ_AM(time = 365)\n",
    "# good, time 365 = time 0\n"
   ]
  },
  {
   "cell_type": "code",
   "execution_count": 13,
   "metadata": {
    "collapsed": false
   },
   "outputs": [
    {
     "name": "stdout",
     "output_type": "stream",
     "text": [
      "[  2.80527965e-17]\n"
     ]
    }
   ],
   "source": [
    "print dmdd.rate_UV.dRdQ(Q = np.array([100.]), sigma_si = 75.5)"
   ]
  },
  {
   "cell_type": "code",
   "execution_count": 23,
   "metadata": {
    "collapsed": false
   },
   "outputs": [
    {
     "name": "stdout",
     "output_type": "stream",
     "text": [
      "[  4.82670411e-17]\n",
      "[  5.60804697e-17]\n",
      "[  4.13587574e-17]\n",
      "[  2.21276375e-17]\n",
      "[  1.26696223e-17]\n",
      "[  1.28934420e-17]\n",
      "[  2.28944209e-17]\n"
     ]
    }
   ],
   "source": [
    "print dmdd.dRdQ_AM(time = 50)\n",
    "print dmdd.dRdQ_AM(time = 100)\n",
    "print dmdd.dRdQ_AM(time = 150)\n",
    "print dmdd.dRdQ_AM(time = 200)\n",
    "print dmdd.dRdQ_AM(time = 250)\n",
    "print dmdd.dRdQ_AM(time = 300)\n",
    "print dmdd.dRdQ_AM(time = 350)"
   ]
  },
  {
   "cell_type": "code",
   "execution_count": null,
   "metadata": {
    "collapsed": true
   },
   "outputs": [],
   "source": []
  }
 ],
 "metadata": {
  "kernelspec": {
   "display_name": "Python 2",
   "language": "python",
   "name": "python2"
  },
  "language_info": {
   "codemirror_mode": {
    "name": "ipython",
    "version": 2
   },
   "file_extension": ".py",
   "mimetype": "text/x-python",
   "name": "python",
   "nbconvert_exporter": "python",
   "pygments_lexer": "ipython2",
   "version": "2.7.10"
  }
 },
 "nbformat": 4,
 "nbformat_minor": 0
}
