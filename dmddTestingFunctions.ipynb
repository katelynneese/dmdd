{
 "cells": [
  {
   "cell_type": "code",
   "execution_count": 4,
   "metadata": {
    "collapsed": false
   },
   "outputs": [],
   "source": [
    "import dmdd\n",
    "import numpy as np\n",
    "\n"
   ]
  },
  {
   "cell_type": "code",
   "execution_count": 5,
   "metadata": {
    "collapsed": false
   },
   "outputs": [
    {
     "name": "stdout",
     "output_type": "stream",
     "text": [
      "experiment: 1xe (2000 kg-yr)\n",
      "minimum detectable WIMP mass: 7.3 GeV\n",
      "projected exclusion for SI scattering @ 50 GeV: sigma_p = 1.93e-46 cm^2\n",
      "projected exclusion for Anapole scattering @ 50 GeV: sigma_p = 5.28e-41 cm^2\n"
     ]
    }
   ],
   "source": [
    "# Testing the object Experiment\n",
    "# Pass efficiency function\n",
    "xe = dmdd.Experiment('1xe', 'xenon', 5, 100, 2000, dmdd.eff.efficiency_unit)\n",
    "\n",
    "print 'experiment: {} ({:.0f} kg-yr)'.format(xe.name, xe.exposure)\n",
    "\n",
    "# The minimum detectable WIMP mass (head-on collision, transfers all of momentum)\n",
    "# With AM the v_lag will be changing with time\n",
    "minimum_mx = xe.find_min_mass(v_esc=540., v_lag=220., mx_guess=1.) \n",
    "print 'minimum detectable WIMP mass: {:.1f} GeV'.format(minimum_mx)\n",
    "\n",
    "# The exclusion curve or maximum exclusion at 50 GeV (mass), assuming 4 background events (Nbackground)\n",
    "sigma_exp = xe.sigma_limit(sigma_name='sigma_si', fnfp_name='fnfp_si', fnfp_val=-1.1,\n",
    "                                mass=50, Nbackground=4, sigma_guess = 1e10, mx_guess=1.,\n",
    "                                v_esc=540., v_lag=220., v_rms=220., rho_x=0.3)\n",
    "anapole_exp = xe.sigma_limit(sigma_name='sigma_anapole', fnfp_name='fnfp_anapole', fnfp_val=-1.1,\n",
    "                            mass=50, Nbackground=4, sigma_guess=1e10, mx_guess=1.,\n",
    "                            v_esc=540., v_lag=220., v_rms=220., rho_x=0.3)\n",
    "\n",
    "sigma_normalized = sigma_exp * dmdd.PAR_NORMS['sigma_si']\n",
    "anapole_normalized = anapole_exp * dmdd.PAR_NORMS['sigma_anapole']\n",
    "\n",
    "print 'projected exclusion for SI scattering @ 50 GeV: sigma_p = {:.2e} cm^2'.format(sigma_normalized)\n",
    "print 'projected exclusion for Anapole scattering @ 50 GeV: sigma_p = {:.2e} cm^2'.format(anapole_normalized)\n"
   ]
  },
  {
   "cell_type": "code",
   "execution_count": 6,
   "metadata": {
    "collapsed": false
   },
   "outputs": [
    {
     "name": "stdout",
     "output_type": "stream",
     "text": [
      "model: Anapole, parameters: ['mass', 'sigma_anapole'].\n",
      "model: SI, parameters: ['mass', 'sigma_si'].\n"
     ]
    }
   ],
   "source": [
    "# Testing the object Model\n",
    "\n",
    "\n",
    "# shortcut for scattering models corresponding to rates coded in rate_UV:\n",
    "anapole_model = dmdd.UV_Model('Anapole', ['mass','sigma_anapole'])\n",
    "SI = dmdd.UV_Model('SI', ['mass','sigma_si'])\n",
    "\n",
    "print 'model: {}, parameters: {}.'.format(anapole_model.name, anapole_model.param_names)\n",
    "print 'model: {}, parameters: {}.'.format(SI.name, SI.param_names)"
   ]
  },
  {
   "cell_type": "code",
   "execution_count": 7,
   "metadata": {
    "collapsed": false
   },
   "outputs": [
    {
     "name": "stdout",
     "output_type": "stream",
     "text": [
      "simulation had 507 events (expected 532).\n",
      "\n",
      " List of energies generated in xesim is: \n",
      "\n",
      "[  6.18761876  10.47254725   9.92149215   6.36813681  22.74777478\n",
      "  22.97579758   8.17331733  12.04020402  16.29662966   8.31583158\n",
      "   9.49394939   9.33243324  44.55245525   8.58185819  23.08030803\n",
      "  10.82408241  11.93569357  11.32763276  32.25822582  34.03490349\n",
      "   7.66026603  14.03540354  10.90009001   7.75527553   6.33963396\n",
      "  10.3680368   24.71447145  13.78837884  25.2560256    8.65786579\n",
      "  11.90719072   5.53205321  12.27772777  22.04470447   8.93339334\n",
      "  10.87158716  17.10421042  17.37023702  31.86868687   5.16151615\n",
      "   7.04270427  25.17051705  18.90939094   6.90969097  43.48834883   5.\n",
      "   9.59845985   6.39663966  24.56245625  19.99249925  10.97609761\n",
      "   5.33253325  13.37983798  14.04490449   6.86218622  31.50765077\n",
      "   7.99279928   8.03080308  13.52235224   9.9309931   21.77867787\n",
      "  15.44154415   7.45124512  15.40354035  12.38223822  18.76687669\n",
      "  11.57465747  15.02350235   8.17331733  21.59815982   5.18051805\n",
      "  11.31813181   5.90259026   8.00230023  15.69806981  15.85958596\n",
      "  28.89488949  13.37033703   6.74817482   5.2280228   13.88338834\n",
      "   5.08550855  14.43444344   6.14011401   8.89538954  21.32263226\n",
      "   7.39423942   6.62466247   6.64366437  10.52955296  10.05450545\n",
      "  22.47224722  13.06630663   9.12341234  42.38623862  11.24212421\n",
      "   8.89538954  12.59125913  47.23172317  24.61946195   6.41564156\n",
      "   9.50345035   8.83838384  21.49364936   5.19951995   9.32293229\n",
      "  13.84538454   8.63886389  42.68076808  11.59365937  15.81208121\n",
      "  24.7429743    8.10681068  52.53325333  15.69806981  13.83588359\n",
      "  10.1970197    6.02610261  27.97329733  12.67676768   7.22322232\n",
      "   9.8929893    9.25642564   5.93109311  13.21832183   7.52725273\n",
      "  14.8809881   10.82408241   7.60326033  16.07810781  23.43184318\n",
      "  37.04670467  13.91189119  12.44874487  10.54855486  22.30123012\n",
      "   8.26832683  22.15871587  16.55315532  11.48914891  26.67166717\n",
      "  30.40554055   5.380038     6.33963396   5.04750475  10.3680368\n",
      "   8.46784678  15.1090109   15.0520052   10.79557956  12.53425343\n",
      "   5.76957696  13.38933893  18.31083108  10.61506151   7.28972897\n",
      "  11.67916792   5.78857886   7.11871187  10.66256626  10.4250425\n",
      "  23.57435744   9.47494749   9.35143514   7.85978598  15.04250425\n",
      "  11.36563656  11.96419642   5.56055606   7.80278028  29.04690469\n",
      "   5.82658266  12.04970497  13.94989499  12.32523252  14.40594059\n",
      "   9.05690569  30.42454245   8.84788479  15.92609261   9.61746175\n",
      "  18.03530353   7.53675368  20.16351635   7.86928693  10.32053205\n",
      "  11.35613561  17.33223322   6.60566057   6.02610261  11.14711471\n",
      "   5.56055606  40.88508851   5.2090209   28.08730873  10.330033\n",
      "  11.88818882  31.80218022   9.36093609  27.40324032  22.73827383\n",
      "   5.21852185  18.13031303  11.34663466  18.95689569   8.04030403\n",
      "  13.78837884   8.28732873   6.12111211  14.28242824  12.15421542\n",
      "  20.2110211   20.98059806   6.74817482   7.36573657   6.26362636\n",
      "  16.28712871   9.7789779    9.47494749  13.27532753   8.21132113\n",
      "   6.88118812  17.01870187  14.18741874  20.16351635   9.9309931\n",
      "  10.0830083   16.30613061  10.87158716   7.04270427  10.71957196\n",
      "   6.03560356  12.47724772   9.00940094   8.48684868   7.17571757\n",
      "   7.60326033   9.7979798   19.97349735   8.76237624   5.57005701\n",
      "  15.80258026  22.63376338   7.85028503   9.9309931   29.29392939\n",
      "  32.62876288  17.41774177  18.60536054   6.33963396  13.63636364\n",
      "  27.73577358   5.2660266   10.85258526   7.31823182  14.62446245\n",
      "  21.23712371  15.1470147    6.00710071   6.03560356   8.34433443\n",
      "  18.54835484   6.03560356   6.03560356  15.85958596  11.71717172\n",
      "   7.19471947  22.28222822  19.9259926    5.81708171   7.58425843\n",
      "  17.83578358  10.52005201   9.43694369  12.97129713  23.16581658\n",
      "  40.95159516   7.95479548  22.70977098   8.83838384   7.44174417\n",
      "  10.51055106  17.02820282  27.89728973   6.96669667  32.59075908\n",
      "   7.92629263  47.27922792   7.74577458   9.8359836    5.02850285\n",
      "  12.24922492  14.21592159  16.15411541  35.96359636  29.79747975\n",
      "   5.19951995  17.29422942   8.58185819  14.7289729    7.09020902\n",
      "  33.17981798  23.84988499   6.29212921   6.27312731   9.20892089\n",
      "  13.50335034   7.78377838   5.10451045  32.76177618  15.68856886\n",
      "  13.55085509  35.89708971  16.65766577  18.82388239   9.15191519\n",
      "  15.36553655  14.96649665   7.01420142  22.98529853   5.76957696\n",
      "  20.99959996   6.45364536  16.88568857  11.75517552   6.52965297\n",
      "   6.84318432  52.29572957  13.81688169   7.94529453   5.87408741\n",
      "   7.11871187  18.45334533  23.12781278   8.66736674   8.96189619\n",
      "  23.65036504  15.1280128   11.01410141  28.86638664   5.           7.27072707\n",
      "  13.71237124   9.9119912   14.42494249  23.43184318   7.09970997\n",
      "   9.9119912   17.62676268   8.65786579  16.43914391   8.38233823\n",
      "  24.23942394  23.86888689   6.00710071   5.99759976  22.78577858\n",
      "  10.20652065   7.13771377  14.41544154  16.61966197  12.71477148\n",
      "  54.7469747   38.65236524  18.63386339  17.80728073   8.40134013\n",
      "  12.54375438   8.91439144  20.79057906  21.51265127  13.96889689\n",
      "   9.8549855   13.16131613   9.6839684    6.02610261   8.02130213\n",
      "  12.24922492  21.18011801  10.76707671  27.19421942   7.42274227\n",
      "   6.63416342  13.68386839  17.63626363  17.30373037  11.05210521\n",
      "   8.38233823  10.2160216   10.71007101   5.3230323   13.76937694\n",
      "  14.62446245   6.07360736   8.06880688   6.24462446  21.37963796\n",
      "   5.83608361  13.37983798   8.93339334  22.74777478  22.82378238\n",
      "  12.52475248   8.03080308  10.62456246  17.78827883  26.73817382\n",
      "  14.34893489   8.37283728   8.97139714  46.54765477   7.64126413\n",
      "  11.39413941   6.00710071  11.29912991   8.27782778  22.69076908\n",
      "  21.30363036   9.07590759  11.10911091   6.71967197  30.51955196\n",
      "  36.80918092   6.14961496  15.70757076   9.7029703   18.43434343\n",
      "  31.52665267  10.74807481  11.64116412   5.58905891  11.36563656\n",
      "   6.39663966   8.37283728  21.57915792  18.01630163  20.52455246\n",
      "  12.23022302  18.81438144   6.72917292  15.30853085  13.76937694\n",
      "   5.0950095   17.27522752  20.64806481  13.13281328  16.03060306\n",
      "   7.67926793  48.03930393   7.64126413   5.40854085   9.949995    19.7929793\n",
      "   7.46074607  22.12071207  11.84068407   6.40614061   7.39423942\n",
      "  26.55765577   5.02850285  32.68576858  22.07320732  23.84038404\n",
      "  23.20382038   9.84548455  18.36783678   8.03080308  20.2110211\n",
      "   5.2280228    8.39183918   7.33723372  29.85448545  23.85938594\n",
      "   7.28972897  79.52545255  10.4440444   16.37263726  17.25622562\n",
      "   9.6269627    7.92629263   8.90489049  12.66726673  10.18751875\n",
      "  16.47714771  12.79077908  13.08530853   5.08550855   8.07830783\n",
      "  12.34423442   8.81938194   6.03560356   5.0380038    9.86448645\n",
      "  13.58885889   8.04030403   5.06650665   7.28972897   6.71017102\n",
      "  12.35373537  13.68386839  21.18011801  12.78127813  33.55985599\n",
      "   9.39893989  10.140014     6.13061306  17.90229023]\n"
     ]
    }
   ],
   "source": [
    "# Testing the object Simulation\n",
    "\n",
    "# intialize an Experiment with XENON target, to be passed to Simulation:\n",
    "# (this is the same as the experiment test above)\n",
    "xe = dmdd.Experiment('1xe', 'xenon', 5, 100, 2000, dmdd.eff.efficiency_unit, energy_resolution=True)\n",
    "\n",
    "# initialize a simulation with xe, for SI and Anapole models defined above,\n",
    "# for 50 GeV WIMP, for sigma_si = 70*PAR_NORMS['sigma_si'] and PAR_NORMS['sigma_anapole'] \n",
    "# what's the 70 here for? does it stay for anapole?\n",
    "test = dmdd.Simulation('xesim', xe, anapole_model, {'mass':50.,'sigma_anapole':70.})\n",
    "\n",
    "\n",
    "\n",
    "\n",
    "# Simulation worked, but did not display a graph.\n",
    "# For test/xesim: \n",
    "# Simulation data and/or pickle file does not exist. Forcing simulation.\n",
    "# simulated: 507 events (expected 532).\n",
    "\n",
    "print '\\n List of energies generated in {} is: \\n\\n'.format(test.name),test.Q\n",
    "\n"
   ]
  },
  {
   "cell_type": "code",
   "execution_count": null,
   "metadata": {
    "collapsed": true
   },
   "outputs": [],
   "source": []
  },
  {
   "cell_type": "code",
   "execution_count": null,
   "metadata": {
    "collapsed": true
   },
   "outputs": [],
   "source": []
  },
  {
   "cell_type": "code",
   "execution_count": null,
   "metadata": {
    "collapsed": true
   },
   "outputs": [],
   "source": []
  },
  {
   "cell_type": "code",
   "execution_count": null,
   "metadata": {
    "collapsed": true
   },
   "outputs": [],
   "source": []
  },
  {
   "cell_type": "code",
   "execution_count": null,
   "metadata": {
    "collapsed": true
   },
   "outputs": [],
   "source": []
  },
  {
   "cell_type": "code",
   "execution_count": null,
   "metadata": {
    "collapsed": true
   },
   "outputs": [],
   "source": []
  },
  {
   "cell_type": "code",
   "execution_count": null,
   "metadata": {
    "collapsed": true
   },
   "outputs": [],
   "source": []
  },
  {
   "cell_type": "code",
   "execution_count": null,
   "metadata": {
    "collapsed": true
   },
   "outputs": [],
   "source": []
  },
  {
   "cell_type": "code",
   "execution_count": null,
   "metadata": {
    "collapsed": true
   },
   "outputs": [],
   "source": []
  },
  {
   "cell_type": "code",
   "execution_count": null,
   "metadata": {
    "collapsed": true
   },
   "outputs": [],
   "source": []
  },
  {
   "cell_type": "code",
   "execution_count": null,
   "metadata": {
    "collapsed": false
   },
   "outputs": [],
   "source": []
  },
  {
   "cell_type": "code",
   "execution_count": null,
   "metadata": {
    "collapsed": false
   },
   "outputs": [],
   "source": []
  },
  {
   "cell_type": "code",
   "execution_count": null,
   "metadata": {
    "collapsed": true
   },
   "outputs": [],
   "source": []
  }
 ],
 "metadata": {
  "kernelspec": {
   "display_name": "Python 2",
   "language": "python",
   "name": "python2"
  },
  "language_info": {
   "codemirror_mode": {
    "name": "ipython",
    "version": 2
   },
   "file_extension": ".py",
   "mimetype": "text/x-python",
   "name": "python",
   "nbconvert_exporter": "python",
   "pygments_lexer": "ipython2",
   "version": "2.7.10"
  }
 },
 "nbformat": 4,
 "nbformat_minor": 0
}
