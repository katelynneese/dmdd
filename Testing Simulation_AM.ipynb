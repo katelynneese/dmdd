{
 "cells": [
  {
   "cell_type": "code",
   "execution_count": 1,
   "metadata": {
    "collapsed": false
   },
   "outputs": [
    {
     "name": "stderr",
     "output_type": "stream",
     "text": [
      "WARNING:root:pymultinest not imported!\n",
      "WARNING:root:DMDD_MAIN_PATH environment variable not defined, defaulting to:   ~/.dmdd\n"
     ]
    }
   ],
   "source": [
    "import dmdd\n",
    "import numpy as np\n",
    "%matplotlib inline\n"
   ]
  },
  {
   "cell_type": "markdown",
   "metadata": {},
   "source": [
    "# \n",
    "This cell demonstrates that dRdQ_AM has the same value as dRdQ at day 0 and day 365, when the v_lag is = 220."
   ]
  },
  {
   "cell_type": "code",
   "execution_count": 3,
   "metadata": {
    "collapsed": false,
    "scrolled": true
   },
   "outputs": [
    {
     "name": "stdout",
     "output_type": "stream",
     "text": [
      "[  2.80527965e-17]\n",
      "[  2.80527965e-17]\n",
      "[  2.80527965e-17]\n"
     ]
    }
   ],
   "source": [
    "print dmdd.dRdQ_AM(Q = [100.], sigma_si = 75.5)\n",
    "print dmdd.rate_UV.dRdQ(Q = np.asarray([100.]), sigma_si = 75.5)\n",
    "print dmdd.dRdQ_AM(Q = [100.], sigma_si = 75.5, time = 365)\n",
    "\n"
   ]
  },
  {
   "cell_type": "markdown",
   "metadata": {},
   "source": [
    "# \n",
    "This cell demonstates the rate_UV.dRdQ can recieve multiple Qs and return them as an array.\n",
    "The following cell shows the same thing, but for dRdQ_AM. "
   ]
  },
  {
   "cell_type": "code",
   "execution_count": null,
   "metadata": {
    "collapsed": false
   },
   "outputs": [],
   "source": [
    "dmdd.rate_UV.dRdQ(Q = np.array([50., 60., 70., 80., 90., 100.]), sigma_si = 75.5)\n",
    "\n",
    "# demonstrats that rate_UV.dRdQ can take multiple Q's"
   ]
  },
  {
   "cell_type": "code",
   "execution_count": 4,
   "metadata": {
    "collapsed": false
   },
   "outputs": [
    {
     "data": {
      "text/plain": [
       "array([  3.36242431e-10,   3.99546567e-11,   3.41365358e-12,\n",
       "         2.80527965e-17])"
      ]
     },
     "execution_count": 4,
     "metadata": {},
     "output_type": "execute_result"
    }
   ],
   "source": [
    "dmdd.dRdQ_AM(Q = [10., 30., 50., 100.], sigma_si = 75.5, time = 0)\n",
    "# demonstrates that dRdQ_AM can take multiple Q's as a list"
   ]
  },
  {
   "cell_type": "markdown",
   "metadata": {},
   "source": [
    "# \n",
    "This cell is showing the relative progression of rate over various times for fixed parameters."
   ]
  },
  {
   "cell_type": "code",
   "execution_count": 5,
   "metadata": {
    "collapsed": false
   },
   "outputs": [
    {
     "ename": "ValueError",
     "evalue": "Buffer has wrong number of dimensions (expected 1, got 0)",
     "output_type": "error",
     "traceback": [
      "\u001b[0;31m---------------------------------------------------------------------------\u001b[0m",
      "\u001b[0;31mValueError\u001b[0m                                Traceback (most recent call last)",
      "\u001b[0;32m<ipython-input-5-c3e28c199971>\u001b[0m in \u001b[0;36m<module>\u001b[0;34m()\u001b[0m\n\u001b[0;32m----> 1\u001b[0;31m \u001b[0;32mprint\u001b[0m \u001b[0mdmdd\u001b[0m\u001b[0;34m.\u001b[0m\u001b[0mdRdQ_AM\u001b[0m\u001b[0;34m(\u001b[0m\u001b[0msigma_si\u001b[0m \u001b[0;34m=\u001b[0m \u001b[0;36m75.5\u001b[0m\u001b[0;34m,\u001b[0m \u001b[0mtime\u001b[0m \u001b[0;34m=\u001b[0m \u001b[0;36m50\u001b[0m\u001b[0;34m)\u001b[0m\u001b[0;34m\u001b[0m\u001b[0m\n\u001b[0m\u001b[1;32m      2\u001b[0m \u001b[0;32mprint\u001b[0m \u001b[0mdmdd\u001b[0m\u001b[0;34m.\u001b[0m\u001b[0mdRdQ_AM\u001b[0m\u001b[0;34m(\u001b[0m\u001b[0msigma_si\u001b[0m \u001b[0;34m=\u001b[0m \u001b[0;36m75.5\u001b[0m\u001b[0;34m,\u001b[0m \u001b[0mtime\u001b[0m \u001b[0;34m=\u001b[0m \u001b[0;36m100\u001b[0m\u001b[0;34m)\u001b[0m\u001b[0;34m\u001b[0m\u001b[0m\n\u001b[1;32m      3\u001b[0m \u001b[0;32mprint\u001b[0m \u001b[0mdmdd\u001b[0m\u001b[0;34m.\u001b[0m\u001b[0mdRdQ_AM\u001b[0m\u001b[0;34m(\u001b[0m\u001b[0msigma_si\u001b[0m \u001b[0;34m=\u001b[0m \u001b[0;36m75.5\u001b[0m\u001b[0;34m,\u001b[0m \u001b[0mtime\u001b[0m \u001b[0;34m=\u001b[0m \u001b[0;36m150\u001b[0m\u001b[0;34m)\u001b[0m\u001b[0;34m\u001b[0m\u001b[0m\n\u001b[1;32m      4\u001b[0m \u001b[0;32mprint\u001b[0m \u001b[0mdmdd\u001b[0m\u001b[0;34m.\u001b[0m\u001b[0mdRdQ_AM\u001b[0m\u001b[0;34m(\u001b[0m\u001b[0msigma_si\u001b[0m \u001b[0;34m=\u001b[0m \u001b[0;36m75.5\u001b[0m\u001b[0;34m,\u001b[0m \u001b[0mtime\u001b[0m \u001b[0;34m=\u001b[0m \u001b[0;36m200\u001b[0m\u001b[0;34m)\u001b[0m\u001b[0;34m\u001b[0m\u001b[0m\n\u001b[1;32m      5\u001b[0m \u001b[0;32mprint\u001b[0m \u001b[0mdmdd\u001b[0m\u001b[0;34m.\u001b[0m\u001b[0mdRdQ_AM\u001b[0m\u001b[0;34m(\u001b[0m\u001b[0msigma_si\u001b[0m \u001b[0;34m=\u001b[0m \u001b[0;36m75.5\u001b[0m\u001b[0;34m,\u001b[0m \u001b[0mtime\u001b[0m \u001b[0;34m=\u001b[0m \u001b[0;36m250\u001b[0m\u001b[0;34m)\u001b[0m\u001b[0;34m\u001b[0m\u001b[0m\n",
      "\u001b[0;32m/Users/katelynneese/dmddACT/dmdd/dmdd.py\u001b[0m in \u001b[0;36mdRdQ_AM\u001b[0;34m(mass, sigma_si, sigma_anapole, Q, time, bins, element, vlag_mean, v_amplitude)\u001b[0m\n\u001b[1;32m     80\u001b[0m     \u001b[0;31m#print type(v_lag) #vlag must be a number not an array\u001b[0m\u001b[0;34m\u001b[0m\u001b[0;34m\u001b[0m\u001b[0m\n\u001b[1;32m     81\u001b[0m \u001b[0;34m\u001b[0m\u001b[0m\n\u001b[0;32m---> 82\u001b[0;31m     \u001b[0mrate_QT\u001b[0m \u001b[0;34m=\u001b[0m \u001b[0mrate_UV\u001b[0m\u001b[0;34m.\u001b[0m\u001b[0mdRdQ\u001b[0m\u001b[0;34m(\u001b[0m\u001b[0mQ\u001b[0m \u001b[0;34m=\u001b[0m \u001b[0menergy\u001b[0m\u001b[0;34m,\u001b[0m \u001b[0mv_lag\u001b[0m \u001b[0;34m=\u001b[0m \u001b[0mv_lag\u001b[0m\u001b[0;34m,\u001b[0m \u001b[0mmass\u001b[0m \u001b[0;34m=\u001b[0m \u001b[0mmass\u001b[0m\u001b[0;34m,\u001b[0m \u001b[0msigma_si\u001b[0m \u001b[0;34m=\u001b[0m \u001b[0msigma_si\u001b[0m\u001b[0;34m,\u001b[0m \u001b[0msigma_anapole\u001b[0m \u001b[0;34m=\u001b[0m \u001b[0msigma_anapole\u001b[0m\u001b[0;34m,\u001b[0m \u001b[0melement\u001b[0m \u001b[0;34m=\u001b[0m \u001b[0melement\u001b[0m\u001b[0;34m)\u001b[0m\u001b[0;34m\u001b[0m\u001b[0m\n\u001b[0m\u001b[1;32m     83\u001b[0m \u001b[0;34m\u001b[0m\u001b[0m\n\u001b[1;32m     84\u001b[0m     \u001b[0;34m\"Return a 1D array with the rate based on the time and energy given\"\u001b[0m\u001b[0;34m\u001b[0m\u001b[0m\n",
      "\u001b[0;32mrate_UV.pyx\u001b[0m in \u001b[0;36mrate_UV.dRdQ (dmdd/rate_UV.c:14430)\u001b[0;34m()\u001b[0m\n",
      "\u001b[0;31mValueError\u001b[0m: Buffer has wrong number of dimensions (expected 1, got 0)"
     ]
    }
   ],
   "source": [
    "print dmdd.dRdQ_AM(sigma_si = 75.5, time = 50)\n",
    "print dmdd.dRdQ_AM(sigma_si = 75.5, time = 100)\n",
    "print dmdd.dRdQ_AM(sigma_si = 75.5, time = 150)\n",
    "print dmdd.dRdQ_AM(sigma_si = 75.5, time = 200)\n",
    "print dmdd.dRdQ_AM(sigma_si = 75.5, time = 250)\n",
    "print dmdd.dRdQ_AM(sigma_si = 75.5, time = 300)\n",
    "print dmdd.dRdQ_AM(sigma_si = 75.5, time = 350)"
   ]
  },
  {
   "cell_type": "markdown",
   "metadata": {},
   "source": [
    "# \n",
    "Demonstration of integral function"
   ]
  },
  {
   "cell_type": "code",
   "execution_count": 4,
   "metadata": {
    "collapsed": false
   },
   "outputs": [
    {
     "data": {
      "text/plain": [
       "2.9231845333250124e-06"
      ]
     },
     "execution_count": 4,
     "metadata": {},
     "output_type": "execute_result"
    }
   ],
   "source": [
    "dmdd.integral(1., 100., 0., 365., sigma_si = 75.5)"
   ]
  },
  {
   "cell_type": "markdown",
   "metadata": {},
   "source": [
    "# \n",
    "Testing integral function for a known integral with an exact value of 1/6 ."
   ]
  },
  {
   "cell_type": "code",
   "execution_count": 2,
   "metadata": {
    "collapsed": true
   },
   "outputs": [],
   "source": [
    "def funct1(Q,time, sigma_si, sigma_anapole, mass, element, v_amplitude):\n",
    "    return (Q**2)*(time)\n",
    "#have to define like this due to the way integral is defined, but still returns correct answer"
   ]
  },
  {
   "cell_type": "code",
   "execution_count": 3,
   "metadata": {
    "collapsed": false
   },
   "outputs": [
    {
     "data": {
      "text/plain": [
       "0.16675008341675007"
      ]
     },
     "execution_count": 3,
     "metadata": {},
     "output_type": "execute_result"
    }
   ],
   "source": [
    "dmdd.integral(0, 1, 0, 1, function = funct1)"
   ]
  },
  {
   "cell_type": "markdown",
   "metadata": {
    "collapsed": false
   },
   "source": [
    "# \n",
    "Model and experiment to be used in simulations"
   ]
  },
  {
   "cell_type": "code",
   "execution_count": 4,
   "metadata": {
    "collapsed": false
   },
   "outputs": [
    {
     "name": "stdout",
     "output_type": "stream",
     "text": [
      "model: Anapole, parameters: ['mass', 'sigma_anapole'].\n",
      "model: SI, parameters: ['mass', 'sigma_si'].\n"
     ]
    }
   ],
   "source": [
    "# shortcut for scattering models corresponding to rates coded in rate_UV:\n",
    "anapole_model = dmdd.UV_Model('Anapole', ['mass','sigma_anapole'])\n",
    "SI_model = dmdd.UV_Model('SI', ['mass','sigma_si'])\n",
    "\n",
    "print 'model: {}, parameters: {}.'.format(anapole_model.name, anapole_model.param_names)\n",
    "print 'model: {}, parameters: {}.'.format(SI_model.name, SI_model.param_names)"
   ]
  },
  {
   "cell_type": "code",
   "execution_count": 5,
   "metadata": {
    "collapsed": false
   },
   "outputs": [],
   "source": [
    "# intialize an Experiment with XENON target, to be passed to Simulation_AM:\n",
    "xe = dmdd.Experiment('1xe', 'xenon', 18, 20, 1000, dmdd.eff.efficiency_unit, energy_resolution=True)\n",
    "\n",
    "\n",
    "\n"
   ]
  },
  {
   "cell_type": "code",
   "execution_count": null,
   "metadata": {
    "collapsed": false
   },
   "outputs": [],
   "source": []
  },
  {
   "cell_type": "markdown",
   "metadata": {},
   "source": [
    "# \n",
    "Attempting to run Simulation_AM"
   ]
  },
  {
   "cell_type": "code",
   "execution_count": 6,
   "metadata": {
    "collapsed": false
   },
   "outputs": [
    {
     "name": "stdout",
     "output_type": "stream",
     "text": [
      "simulated: 10 events (expected 8).\n"
     ]
    },
    {
     "ename": "TypeError",
     "evalue": "__init__() takes at least 5 arguments (1 given)",
     "output_type": "error",
     "traceback": [
      "\u001b[0;31m---------------------------------------------------------------------------\u001b[0m",
      "\u001b[0;31mTypeError\u001b[0m                                 Traceback (most recent call last)",
      "\u001b[0;32m<ipython-input-6-d3376ccebd6d>\u001b[0m in \u001b[0;36m<module>\u001b[0;34m()\u001b[0m\n\u001b[1;32m      1\u001b[0m xe = dmdd.Simulation_AM('AM_xenon', xe, SI_model, {'mass':50.,'sigma_si':75.5}, Qmin = np.asarray([18.]), Qmax = np.asarray([20.]),\n\u001b[0;32m----> 2\u001b[0;31m                        Tmin = 0, Tmax = 50, sigma_si = 75.5, element = 'xenon', force_sim = True)\n\u001b[0m\u001b[1;32m      3\u001b[0m \u001b[0;34m\u001b[0m\u001b[0m\n\u001b[1;32m      4\u001b[0m \u001b[0;31m# found problem - q and t in the loops from the meshgrid are filled np arrays\u001b[0m\u001b[0;34m\u001b[0m\u001b[0;34m\u001b[0m\u001b[0m\n\u001b[1;32m      5\u001b[0m \u001b[0;31m# finds all particles, doesn't throw an error, but doesn't display graph either.\u001b[0m\u001b[0;34m\u001b[0m\u001b[0;34m\u001b[0m\u001b[0m\n",
      "\u001b[0;32m/Users/katelynneese/dmddACT/dmdd/dmdd.py\u001b[0m in \u001b[0;36m__init__\u001b[0;34m(self, name, experiment, model, parvals, Qmin, Qmax, element, sigma_si, sigma_anapole, mass, v_amplitude, Tmin, Tmax, path, force_sim, asimov, nbins_asimov, plot_nbins, plot_theory, silent)\u001b[0m\n\u001b[1;32m   1098\u001b[0m \u001b[0;34m\u001b[0m\u001b[0m\n\u001b[1;32m   1099\u001b[0m         \u001b[0;32mif\u001b[0m \u001b[0mforce_sim\u001b[0m \u001b[0;32mor\u001b[0m \u001b[0;34m(\u001b[0m\u001b[0;32mnot\u001b[0m \u001b[0mos\u001b[0m\u001b[0;34m.\u001b[0m\u001b[0mpath\u001b[0m\u001b[0;34m.\u001b[0m\u001b[0mexists\u001b[0m\u001b[0;34m(\u001b[0m\u001b[0mself\u001b[0m\u001b[0;34m.\u001b[0m\u001b[0mplotfile\u001b[0m\u001b[0;34m)\u001b[0m\u001b[0;34m)\u001b[0m\u001b[0;34m:\u001b[0m\u001b[0;34m\u001b[0m\u001b[0m\n\u001b[0;32m-> 1100\u001b[0;31m             \u001b[0mself\u001b[0m\u001b[0;34m.\u001b[0m\u001b[0mplot_data\u001b[0m\u001b[0;34m(\u001b[0m\u001b[0mplot_nbins\u001b[0m\u001b[0;34m=\u001b[0m\u001b[0mplot_nbins\u001b[0m\u001b[0;34m,\u001b[0m \u001b[0mplot_theory\u001b[0m\u001b[0;34m=\u001b[0m\u001b[0mplot_theory\u001b[0m\u001b[0;34m,\u001b[0m \u001b[0msave_plot\u001b[0m\u001b[0;34m=\u001b[0m\u001b[0mTrue\u001b[0m\u001b[0;34m)\u001b[0m\u001b[0;34m\u001b[0m\u001b[0m\n\u001b[0m\u001b[1;32m   1101\u001b[0m         \u001b[0;32melse\u001b[0m\u001b[0;34m:\u001b[0m\u001b[0;34m\u001b[0m\u001b[0m\n\u001b[1;32m   1102\u001b[0m             \u001b[0;32mif\u001b[0m \u001b[0;32mnot\u001b[0m \u001b[0mself\u001b[0m\u001b[0;34m.\u001b[0m\u001b[0msilent\u001b[0m\u001b[0;34m:\u001b[0m\u001b[0;34m\u001b[0m\u001b[0m\n",
      "\u001b[0;32m/Users/katelynneese/dmddACT/dmdd/dmdd.py\u001b[0m in \u001b[0;36mplot_data\u001b[0;34m(self, plot_nbins, plot_theory, save_plot, make_plot, return_plot_items)\u001b[0m\n\u001b[1;32m   1198\u001b[0m         Qbins_theory = self.model_Qgrid\"\"\"\n\u001b[1;32m   1199\u001b[0m \u001b[0;34m\u001b[0m\u001b[0m\n\u001b[0;32m-> 1200\u001b[0;31m         \u001b[0mSimAM\u001b[0m \u001b[0;34m=\u001b[0m \u001b[0mSimulation_AM\u001b[0m\u001b[0;34m(\u001b[0m\u001b[0;34m)\u001b[0m\u001b[0;34m\u001b[0m\u001b[0m\n\u001b[0m\u001b[1;32m   1201\u001b[0m         \u001b[0;32mprint\u001b[0m \u001b[0mSimAM\u001b[0m\u001b[0;34m.\u001b[0m\u001b[0msimulate_data\u001b[0m\u001b[0;34m(\u001b[0m\u001b[0;34m)\u001b[0m\u001b[0;34m\u001b[0m\u001b[0m\n\u001b[1;32m   1202\u001b[0m \u001b[0;34m\u001b[0m\u001b[0m\n",
      "\u001b[0;31mTypeError\u001b[0m: __init__() takes at least 5 arguments (1 given)"
     ]
    }
   ],
   "source": [
    "xe = dmdd.Simulation_AM('AM_xenon', xe, SI_model, {'mass':50.,'sigma_si':75.5}, Qmin = np.asarray([18.]), Qmax = np.asarray([20.]),\n",
    "                       Tmin = 0, Tmax = 50, sigma_si = 75.5, element = 'xenon', force_sim = True)\n",
    "\n",
    "# found problem - q and t in the loops from the meshgrid are filled np arrays\n",
    "# finds all particles, doesn't throw an error, but doesn't display graph either. \n",
    "# creates graphs with Q_array and T_array but those are not accessable\n",
    "\n"
   ]
  },
  {
   "cell_type": "code",
   "execution_count": null,
   "metadata": {
    "collapsed": true
   },
   "outputs": [],
   "source": []
  }
 ],
 "metadata": {
  "kernelspec": {
   "display_name": "Python 2",
   "language": "python",
   "name": "python2"
  },
  "language_info": {
   "codemirror_mode": {
    "name": "ipython",
    "version": 2
   },
   "file_extension": ".py",
   "mimetype": "text/x-python",
   "name": "python",
   "nbconvert_exporter": "python",
   "pygments_lexer": "ipython2",
   "version": "2.7.10"
  }
 },
 "nbformat": 4,
 "nbformat_minor": 0
}
