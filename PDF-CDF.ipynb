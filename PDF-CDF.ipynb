{
 "cells": [
  {
   "cell_type": "code",
   "execution_count": 1,
   "metadata": {
    "collapsed": false
   },
   "outputs": [],
   "source": [
    "%matplotlib inline\n",
    "import numpy as np\n",
    "import matplotlib.pyplot as plt"
   ]
  },
  {
   "cell_type": "code",
   "execution_count": 2,
   "metadata": {
    "collapsed": false
   },
   "outputs": [
    {
     "data": {
      "text/plain": [
       "[0, 1, 0, 2]"
      ]
     },
     "execution_count": 2,
     "metadata": {},
     "output_type": "execute_result"
    },
    {
     "data": {
      "image/png": "[encoded data removed]",
      "text/plain": [
       "<matplotlib.figure.Figure at 0x7528160>"
      ]
     },
     "metadata": {},
     "output_type": "display_data"
    }
   ],
   "source": [
    "#start with simple function\n",
    "# pdf = 2x (normalized)\n",
    "# cdf = x^2\n",
    "N = 500 #number of points\n",
    "x = np.linspace(0, 10, N)\n",
    "pdf = 2*x\n",
    "cdf = x**2\n",
    "plt.plot(x, pdf, 'r.')\n",
    "plt.plot(x, cdf, 'b.')\n",
    "plt.axis([0,1,0,2])"
   ]
  },
  {
   "cell_type": "code",
   "execution_count": 3,
   "metadata": {
    "collapsed": false
   },
   "outputs": [
    {
     "data": {
      "text/plain": [
       "[0, 3.141592653589793, 0, 1]"
      ]
     },
     "execution_count": 3,
     "metadata": {},
     "output_type": "execute_result"
    },
    {
     "data": {
      "image/png": "[encoded data removed]",
      "text/plain": [
       "<matplotlib.figure.Figure at 0x75575f8>"
      ]
     },
     "metadata": {},
     "output_type": "display_data"
    }
   ],
   "source": [
    "# more complex function\n",
    "# pdf = sin^2(x) + cos(x)\n",
    "# cdf = e^-(x^2)\n",
    "pdf = (2./np.pi)*np.cos(x)**2\n",
    "cdf = (1./np.pi)*(x+np.sin(x)*np.cos(x))\n",
    "#cdf = np.e**(-x**2)\n",
    "plt.plot(x, pdf, 'r.')\n",
    "plt.plot(x, cdf, 'b.')\n",
    "plt.axis([0,np.pi,0,1])"
   ]
  },
  {
   "cell_type": "code",
   "execution_count": 8,
   "metadata": {
    "collapsed": false
   },
   "outputs": [
    {
     "ename": "ValueError",
     "evalue": "The truth value of an array with more than one element is ambiguous. Use a.any() or a.all()",
     "output_type": "error",
     "traceback": [
      "\u001b[1;31m---------------------------------------------------------------------------\u001b[0m",
      "\u001b[1;31mValueError\u001b[0m                                Traceback (most recent call last)",
      "\u001b[1;32m<ipython-input-8-87fb199b8ce2>\u001b[0m in \u001b[0;36m<module>\u001b[1;34m()\u001b[0m\n\u001b[0;32m     16\u001b[0m     \u001b[0mU\u001b[0m \u001b[1;33m=\u001b[0m \u001b[0mU\u001b[0m\u001b[1;33m*\u001b[0m\u001b[1;36m15\u001b[0m \u001b[1;33m+\u001b[0m \u001b[1;36m5\u001b[0m \u001b[1;31m#mapped to range between 5 and 20\u001b[0m\u001b[1;33m\u001b[0m\u001b[0m\n\u001b[0;32m     17\u001b[0m \u001b[1;33m\u001b[0m\u001b[0m\n\u001b[1;32m---> 18\u001b[1;33m     \u001b[1;32mif\u001b[0m \u001b[0mU\u001b[0m \u001b[1;33m<\u001b[0m \u001b[1;33m(\u001b[0m\u001b[0mpdf\u001b[0m\u001b[1;33m)\u001b[0m\u001b[1;33m/\u001b[0m\u001b[1;33m(\u001b[0m\u001b[0menv\u001b[0m\u001b[1;33m)\u001b[0m\u001b[1;33m:\u001b[0m \u001b[1;31m# if condition is met, accept point\u001b[0m\u001b[1;33m\u001b[0m\u001b[0m\n\u001b[0m\u001b[0;32m     19\u001b[0m         \u001b[0mn\u001b[0m \u001b[1;33m=\u001b[0m \u001b[0mn\u001b[0m\u001b[1;33m+\u001b[0m\u001b[1;36m1\u001b[0m \u001b[1;31m#add one to the count\u001b[0m\u001b[1;33m\u001b[0m\u001b[0m\n\u001b[0;32m     20\u001b[0m         \u001b[1;31m#plt.scatter(x, U) #graph the point\u001b[0m\u001b[1;33m\u001b[0m\u001b[1;33m\u001b[0m\u001b[0m\n",
      "\u001b[1;31mValueError\u001b[0m: The truth value of an array with more than one element is ambiguous. Use a.any() or a.all()"
     ]
    }
   ],
   "source": [
    "# rejection sampling method\n",
    "#Simple function again\n",
    "# pdf = 2x\n",
    "# test from range 5-20\n",
    "# envelope function \n",
    "\n",
    "N = 10 #number of samples to draw\n",
    "total = 0 #initial number of samples drawn that fall in range\n",
    "x = np.linspace(5,20)\n",
    "pdf = 2*x #maybe put in loop to choose different x each time?\n",
    "#cdf = x**2\n",
    "env = 50. #envelope function, needs to be above PDF in range you're looking at (at x=20, pdf = 40)\n",
    "#currently a flat line above the values\n",
    "while total < N: #while you don't have all the samples yet\n",
    "    U = np.random.rand() #random number, needs to be mapped to range you're looking at\n",
    "    U = U*15 + 5 #mapped to range between 5 and 20\n",
    "    \n",
    "    if U < (pdf)/(env): # if condition is met, accept point\n",
    "        n = n+1 #add one to the count\n",
    "        #plt.scatter(x, U) #graph the point\n",
    "        print(\"match found!\")\n",
    "    else:\n",
    "        pass #otherwise do nothing\n",
    "    \n",
    "    "
   ]
  },
  {
   "cell_type": "code",
   "execution_count": null,
   "metadata": {
    "collapsed": true
   },
   "outputs": [],
   "source": []
  },
  {
   "cell_type": "code",
   "execution_count": null,
   "metadata": {
    "collapsed": true
   },
   "outputs": [],
   "source": []
  }
 ],
 "metadata": {
  "kernelspec": {
   "display_name": "Python 3",
   "language": "python",
   "name": "python3"
  },
  "language_info": {
   "codemirror_mode": {
    "name": "ipython",
    "version": 3
   },
   "file_extension": ".py",
   "mimetype": "text/x-python",
   "name": "python",
   "nbconvert_exporter": "python",
   "pygments_lexer": "ipython3",
   "version": "3.4.3"
  }
 },
 "nbformat": 4,
 "nbformat_minor": 0
}
